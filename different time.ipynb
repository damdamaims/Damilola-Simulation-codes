{
 "metadata": {
  "name": "",
  "signature": "sha256:8ca5621d7bd6b63c385e1e4a06d31b29854126e0cfad0039e5dbcc201082971c"
 },
 "nbformat": 3,
 "nbformat_minor": 0,
 "worksheets": [
  {
   "cells": [
    {
     "cell_type": "code",
     "collapsed": false,
     "input": [
      "#This plot shows the proportion invested in production at different time.\n",
      "\n",
      "import numpy as np\n",
      "import math as m\n",
      "import matplotlib.pyplot as plt\n",
      "from mpl_toolkits.mplot3d import Axes3D\n",
      "from matplotlib import cm\n",
      "from matplotlib.ticker import LinearLocator, FormatStrFormatter\n",
      "\n",
      "\n",
      "#Coefficients of the model\n",
      "B = -0.5; a = 0.18; b = 0.15; R=0.8; L = 0.9; T =2; K =0.9; r1 = 0.1;\n",
      "r = 0.05; S = 3; P =2;\n",
      "\n",
      "#this function calculate the proportion invested in production for every value of sigma\n",
      "def p(x,ra1,Beta,R,ra,t):\n",
      "    F = lambda s: m.exp((B * (a - (0.5 * s ** 2))) * t) * (S * m.exp((a - (0.5 * s ** 2)) * t) -\n",
      "    P * m.exp((b - (0.5 * s ** 2)) * t))\n",
      "\n",
      "    Fp = lambda s: m.exp((B * (a - (0.5 * s ** 2))) * t) * (S * m.exp((a - (0.5 * s ** 2)) * t) * (a - (0.5 * s ** 2)) -\n",
      "    (P * m.exp((b - (0.5 * s ** 2)) * t) * (b - (0.5 * s ** 2)))) + \\\n",
      "    m.exp((B * (a - (0.5 * s ** 2))) * t) * B * (a - (0.5 * s ** 2)) * (S * m.exp((a - (0.5 * s ** 2)) * t) -\n",
      "    P * m.exp((b - (0.5 * s ** 2)) * t))\n",
      "\n",
      "    f = (Fp(x)/F(x)) + (0.5*(1+Beta)**2*x**2)\n",
      "    if ra1 <= f-(R*((1+Beta)**2)*x**2):   # first condition for borrowing rate\n",
      "        fi = (f-ra1)/(R*(1+Beta)**2*x**2)\n",
      "    elif ra < f-(R*((1+Beta)**2)*x**2) and f-(R*((1+Beta)**2)*x**2) < ra1: # when deposit rate is lower than borrowing rate\n",
      "        fi = 1\n",
      "    else : \n",
      "        fi = (f-ra)/(R*(1+Beta)**2*x**2)  # condtion for deposit rate\n",
      "\n",
      "    return fi\n",
      "\n",
      "fig = plt.figure()\n",
      "ax = fig.add_subplot(111, projection='3d')\n",
      "\n",
      "s = np.arange(0.3, 1, 0.1)\n",
      "T = np.arange(0, 4, 0.2)\n",
      "X, Y = np.meshgrid(s, T)\n",
      "zs = np.array([p(s,r1,B,R,r,T) for s,T in zip(np.ravel(X), np.ravel(Y))])\n",
      "Z = zs.reshape(X.shape)\n",
      "\n",
      "\n",
      "\n",
      "surf = ax.plot_surface(X,Y,Z)\n",
      "ax.set_zlim(0, 2)\n",
      "ax.set_zlabel(\"$\\pi$/w\")\n",
      "ax.set_ylabel(\"time\")\n",
      "ax.set_xlabel(\"sigma\")\n",
      "plt.savefig(\"3d\")\n",
      "plt.show()\n"
     ],
     "language": "python",
     "metadata": {},
     "outputs": [],
     "prompt_number": 3
    }
   ],
   "metadata": {}
  }
 ]
}