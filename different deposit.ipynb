{
 "metadata": {
  "name": "",
  "signature": "sha256:0c39cd53d124e95d4359c01d59ba2eb9950c15f2ecca29b3b7ab3a8b1a0dbb2c"
 },
 "nbformat": 3,
 "nbformat_minor": 0,
 "worksheets": [
  {
   "cells": [
    {
     "cell_type": "code",
     "collapsed": false,
     "input": [
      "# In this plot we consider  the effect of increasing and decreasing deposit rate by 20% on proportion invested in production\n",
      "%pylab\n",
      "import numpy as np\n",
      "import math as m\n",
      "from matplotlib import pylab  as plt\n",
      "from mpl_toolkits.mplot3d import Axes3D\n",
      "\n",
      "# range for beta\n",
      "s = np.linspace(0.3,1,100)\n",
      "# coefficient for the model\n",
      "B = -0.5; a = 0.18; b = 0.15; R=0.8; L = 0.9; T =2; K =0.9; r1 = 0.1;\n",
      "r = 0.05; S = 5; P =4; t=0\n",
      "\n",
      "\n",
      "F = lambda s:m.exp((B*(a-(0.5*s**2)))*t)*(S*m.exp((a-(0.5*s**2))*t)-P*m.exp((b-(0.5*s**2))*t))\n",
      "\n",
      "Fp = lambda s:m.exp((B*(a-(0.5*s**2)))*t)*(S*m.exp((a-(0.5*s**2))*t)*(a-(0.5*s**2))-\n",
      "    (P*m.exp((b-(0.5*s**2))*t)*(b-(0.5*s**2))))+m.exp((B*(a-(0.5*s**2)))*t)*B*(a-(0.5*s**2))*(S*m.exp((a-(0.5*s**2))*t)-\n",
      "    P*m.exp((b-(0.5*s**2))*t))\n",
      "    #This function calculate the proportion of wealth for every value of sigma\n",
      "def p(x,dev,Fun,ra1,Beta,R,ra):\n",
      "    f = (dev(x)/Fun(x)) + (0.5*(1+Beta)**2*x**2)\n",
      "    if ra1 <= f-(R*((1+Beta)**2)*x**2):   #  condition for borrowing rate\n",
      "        fi = (f-ra1)/(R*(1+Beta)**2*x**2)\n",
      "    elif ra < f-(R*((1+Beta)**2)*x**2) and f-(R*((1+Beta)**2)*x**2) < ra1:    # when r is less than r'\n",
      "        fi = 1\n",
      "    else :\n",
      "        fi = (f-ra)/(R*(1+Beta)**2*x**2) # condition for deposit rate\n",
      "        \n",
      "    return fi\n",
      "\n",
      "y = []\n",
      "for i in s:\n",
      "    y.append(p(i,Fp,F,0.1,B,R,0.05))  #Case when r'= 0.1 and r =0.05\n",
      "z = []\n",
      "for i in s:\n",
      "    z.append(p(i,Fp,F,0.1,B,R,0.04))# case when the deposit rate decreases by 20%\n",
      "w=[]\n",
      "for i in s:\n",
      "    w.append(p(i,Fp,F,0.1,B,R,0.06))  # case when the deposit rate increases by 20%\n",
      "   #This plot shows the effect of increasing and decreasing the deposit rate \n",
      "plt.plot(s,y,)\n",
      "plt.plot(s,z,)        \n",
      "plt.plot(s,w,)\n",
      "plt.legend()\n",
      "\n",
      "#plt.title('t=0',loc='right')\n",
      "#plt.plot(s,y, [0.413598,0.413598],[0, 1],'--',[0.533102,0.533102],[0, 1],'--',[0.6,0.6],[0, 1],'--')\n",
      "plt.xlim(0.2,1.1)\n",
      "plt.ylim(0,2)\n",
      "\n",
      "#This is to put some annotations on the plot\n",
      "\n",
      "plt.plot([0.771266], [0.806122], '*')\n",
      "plt.annotate('(0.771266,0.806122)',\n",
      "             xy=(0.78,0.806122),\n",
      "             xycoords='data',\n",
      "             xytext = (0.5, 0.5),\n",
      "             va='bottom', ha = 'left', \n",
      "             textcoords='offset points',\n",
      "             arrowprops=dict());\n",
      "plt.plot([0.771266], [0.719388], '*') \n",
      "plt.annotate('(0.771266, 0.719388)',\n",
      "             xy=(0.8,0.7),\n",
      "             xycoords='data',\n",
      "             xytext = (0.5, 0.5),\n",
      "             va='bottom', ha = 'left', \n",
      "             textcoords='offset points',\n",
      "             arrowprops=dict());\n",
      "plt.plot([0.771266], [0.627551], '*') \n",
      "plt.annotate('(0.771266, 0.627551)',\n",
      "             xy=(0.73,0.5),\n",
      "             xycoords='data',\n",
      "             xytext = (0.5, 0.5),\n",
      "             va='bottom', ha = 'left', \n",
      "             textcoords='offset points',\n",
      "             arrowprops=dict());\n",
      "\n",
      "\n",
      "plt.ylabel('$\\pi$*/w')\n",
      "plt.xlabel('sigma') \n",
      "plt.savefig(\"hara.png\")\n",
      "plt.show()\n"
     ],
     "language": "python",
     "metadata": {},
     "outputs": [
      {
       "output_type": "stream",
       "stream": "stdout",
       "text": [
        "Using matplotlib backend: TkAgg\n",
        "Populating the interactive namespace from numpy and matplotlib\n"
       ]
      },
      {
       "output_type": "stream",
       "stream": "stderr",
       "text": [
        "WARNING: pylab import has clobbered these variables: ['plt']\n",
        "`%matplotlib` prevents importing * from pylab and numpy\n"
       ]
      }
     ],
     "prompt_number": 6
    }
   ],
   "metadata": {}
  }
 ]
}